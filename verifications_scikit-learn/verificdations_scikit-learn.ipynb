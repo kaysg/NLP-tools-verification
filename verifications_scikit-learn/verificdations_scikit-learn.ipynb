{
 "cells": [
  {
   "cell_type": "markdown",
   "metadata": {},
   "source": [
    "# Verifications: scikit-learn"
   ]
  },
  {
   "cell_type": "markdown",
   "metadata": {},
   "source": [
    "- Purpose: To classify news with using scikit-learn's NB classifier and perform hyper parameter tuning\n",
    "- Keywords: Naive Bayes, Pipeline, Hyperparameter Tuning, Grid search"
   ]
  },
  {
   "cell_type": "markdown",
   "metadata": {},
   "source": [
    "## ニュースコーパスの読み込みと表示"
   ]
  },
  {
   "cell_type": "code",
   "execution_count": 1,
   "metadata": {},
   "outputs": [],
   "source": [
    "from sklearn.datasets import fetch_20newsgroups\n",
    "from sklearn.feature_extraction.text import TfidfTransformer"
   ]
  },
  {
   "cell_type": "code",
   "execution_count": 2,
   "metadata": {},
   "outputs": [],
   "source": [
    "# 20グループ中、４グループをサンプルとしてコーパスを読み込み\n",
    "categories = ['alt.atheism', 'soc.religion.christian','comp.graphics', 'sci.med']\n",
    "twenty_train = fetch_20newsgroups(subset='train',categories=categories, shuffle=True, random_state=42)\n",
    "# ファイルはpkz拡張子という特殊な形式で収められているため、通常のFileOpenは適用できない（20news-bydate_py3.pkz）\n",
    "# f = open(twenty_train.filenames[0], 'r') #=>FileNotFoundError"
   ]
  },
  {
   "cell_type": "code",
   "execution_count": 3,
   "metadata": {},
   "outputs": [
    {
     "data": {
      "text/plain": [
       "['alt.atheism', 'comp.graphics', 'sci.med', 'soc.religion.christian']"
      ]
     },
     "execution_count": 3,
     "metadata": {},
     "output_type": "execute_result"
    }
   ],
   "source": [
    "# 4グループの名称を取得・表示\n",
    "twenty_train.target_names"
   ]
  },
  {
   "cell_type": "code",
   "execution_count": 4,
   "metadata": {},
   "outputs": [
    {
     "name": "stdout",
     "output_type": "stream",
     "text": [
      "6 , 2257 , 2257 , 2257\n"
     ]
    }
   ],
   "source": [
    "# 訓練データの全データ数\n",
    "print(len(twenty_train), ',', len(twenty_train.data), ',', len(twenty_train.filenames), ',', len(twenty_train.target))"
   ]
  },
  {
   "cell_type": "code",
   "execution_count": 5,
   "metadata": {},
   "outputs": [
    {
     "data": {
      "text/plain": [
       "sklearn.utils.Bunch"
      ]
     },
     "execution_count": 5,
     "metadata": {},
     "output_type": "execute_result"
    }
   ],
   "source": [
    "# 訓練データのファイル形式\n",
    "type(twenty_train)"
   ]
  },
  {
   "cell_type": "code",
   "execution_count": 6,
   "metadata": {},
   "outputs": [
    {
     "name": "stdout",
     "output_type": "stream",
     "text": [
      "<class 'list'>\n",
      "<class 'str'>\n"
     ]
    },
    {
     "data": {
      "text/plain": [
       "'From: sd345@city.ac.uk (Michael Collier)\\nSubject: Converting images to HP LaserJet III?\\nNntp-Posting-Host: hampton\\nOrganization: The City University\\nLines: 14\\n\\nDoes anyone know of a good way (standard PC application/PD utility) to\\nconvert tif/img/tga files into LaserJet III format.  We would also like to\\ndo the same, converting to HPGL (HP plotter) files.\\n\\nPlease email any response.\\n\\nIs this the correct group?\\n\\nThanks in advance.  Michael.\\n-- \\nMichael Collier (Programmer)                 The Computer Unit,\\nEmail: M.P.Collier@uk.ac.city                The City University,\\nTel: 071 477-8000 x3769                      London,\\nFax: 071 477-8565                            EC1V 0HB.\\n'"
      ]
     },
     "execution_count": 6,
     "metadata": {},
     "output_type": "execute_result"
    }
   ],
   "source": [
    "# データ形式が特殊（sklearn.utils.Bunch）でも、dataプロパティはリストとなっているためデータの中身を確認可能\n",
    "print(type(twenty_train.data))\n",
    "print(type(twenty_train.data[0]))\n",
    "twenty_train.data[0]"
   ]
  },
  {
   "cell_type": "code",
   "execution_count": 7,
   "metadata": {},
   "outputs": [
    {
     "name": "stdout",
     "output_type": "stream",
     "text": [
      "('From: sd345@city.ac.uk (Michael Collier)\\n'\n",
      " 'Subject: Converting images to HP LaserJet III?\\n'\n",
      " 'Nntp-Posting-Host: hampton\\n'\n",
      " 'Organization: The City University\\n'\n",
      " 'Lines: 14\\n'\n",
      " '\\n'\n",
      " 'Does anyone know of a good way (standard PC application/PD utility) to\\n'\n",
      " 'convert tif/img/tga files into LaserJet III format.  We would also like to\\n'\n",
      " 'do the same, converting to HPGL (HP plotter) files.\\n'\n",
      " '\\n'\n",
      " 'Please email any response.\\n'\n",
      " '\\n'\n",
      " 'Is this the correct group?\\n'\n",
      " '\\n'\n",
      " 'Thanks in advance.  Michael.\\n'\n",
      " '-- \\n'\n",
      " 'Michael Collier (Programmer)                 The Computer Unit,\\n'\n",
      " 'Email: M.P.Collier@uk.ac.city                The City University,\\n'\n",
      " 'Tel: 071 477-8000 x3769                      London,\\n'\n",
      " 'Fax: 071 477-8565                            EC1V 0HB.\\n')\n"
     ]
    }
   ],
   "source": [
    "# pretty フォーマットにて再度表示\n",
    "from pprint import pprint\n",
    "pprint(twenty_train.data[0])"
   ]
  },
  {
   "cell_type": "code",
   "execution_count": 8,
   "metadata": {},
   "outputs": [
    {
     "name": "stdout",
     "output_type": "stream",
     "text": [
      "[1 1 3 3 3 3 3 2 2 2]\n"
     ]
    }
   ],
   "source": [
    "# ラベル（カテゴリ名称）はinteger形式で保存されており、targetプロパティで取得可能\n",
    "print(twenty_train.target[:10])"
   ]
  },
  {
   "cell_type": "code",
   "execution_count": 9,
   "metadata": {},
   "outputs": [
    {
     "name": "stdout",
     "output_type": "stream",
     "text": [
      "comp.graphics\n",
      "comp.graphics\n",
      "soc.religion.christian\n",
      "soc.religion.christian\n",
      "soc.religion.christian\n",
      "soc.religion.christian\n",
      "soc.religion.christian\n",
      "sci.med\n",
      "sci.med\n",
      "sci.med\n"
     ]
    }
   ],
   "source": [
    "# 以下の通りテキスト形式で表示させることも可能\n",
    "for t in twenty_train.target[:10]:\n",
    "    print(twenty_train.target_names[t])"
   ]
  },
  {
   "cell_type": "markdown",
   "metadata": {},
   "source": [
    "## 特徴量抽出"
   ]
  },
  {
   "cell_type": "code",
   "execution_count": 10,
   "metadata": {},
   "outputs": [
    {
     "data": {
      "text/plain": [
       "(2257, 35788)"
      ]
     },
     "execution_count": 10,
     "metadata": {},
     "output_type": "execute_result"
    }
   ],
   "source": [
    "# 全単語に対する頻度をカウントしベクトル化することで特徴量とする\n",
    "from sklearn.feature_extraction.text import CountVectorizer\n",
    "count_vect = CountVectorizer()\n",
    "X_train_counts = count_vect.fit_transform(twenty_train.data)\n",
    "X_train_counts.shape"
   ]
  },
  {
   "cell_type": "code",
   "execution_count": 11,
   "metadata": {},
   "outputs": [
    {
     "data": {
      "text/plain": [
       "4690"
      ]
     },
     "execution_count": 11,
     "metadata": {},
     "output_type": "execute_result"
    }
   ],
   "source": [
    "# 全コーパス中でalgorithmが出現した回数\n",
    "count_vect.vocabulary_.get(u'algorithm')"
   ]
  },
  {
   "cell_type": "code",
   "execution_count": 12,
   "metadata": {},
   "outputs": [
    {
     "name": "stdout",
     "output_type": "stream",
     "text": [
      "<class 'scipy.sparse.csr.csr_matrix'>\n",
      "  (0, 230)\t1\n",
      "  (0, 12541)\t1\n",
      "  (0, 3166)\t1\n",
      "  (0, 14085)\t1\n",
      "  (0, 20459)\t1\n",
      "  (0, 35416)\t1\n",
      "  (0, 3062)\t1\n",
      "  (0, 2326)\t2\n",
      "  (0, 177)\t2\n",
      "  (0, 31915)\t1\n",
      "  (0, 33572)\t1\n",
      "  (0, 9338)\t1\n",
      "  (0, 26175)\t1\n",
      "  (0, 4378)\t1\n",
      "  (0, 17556)\t1\n",
      "  (0, 32135)\t1\n",
      "  (0, 15837)\t1\n",
      "  (0, 9932)\t1\n",
      "  (0, 32270)\t1\n",
      "  (0, 18474)\t1\n",
      "  (0, 27836)\t1\n",
      "  (0, 5195)\t1\n",
      "  (0, 12833)\t2\n",
      "  (0, 25337)\t1\n",
      "  (0, 25361)\t1\n",
      "  :\t:\n",
      "  (0, 5201)\t1\n",
      "  (0, 12051)\t1\n",
      "  (0, 587)\t1\n",
      "  (0, 20253)\t1\n",
      "  (0, 33597)\t2\n",
      "  (0, 32142)\t5\n",
      "  (0, 23915)\t1\n",
      "  (0, 16082)\t1\n",
      "  (0, 16881)\t1\n",
      "  (0, 25663)\t1\n",
      "  (0, 23122)\t1\n",
      "  (0, 17302)\t2\n",
      "  (0, 19780)\t2\n",
      "  (0, 16916)\t2\n",
      "  (0, 32493)\t4\n",
      "  (0, 17366)\t1\n",
      "  (0, 9805)\t2\n",
      "  (0, 31077)\t1\n",
      "  (0, 9031)\t3\n",
      "  (0, 21661)\t3\n",
      "  (0, 33256)\t2\n",
      "  (0, 4017)\t2\n",
      "  (0, 8696)\t4\n",
      "  (0, 29022)\t1\n",
      "  (0, 14887)\t1\n"
     ]
    }
   ],
   "source": [
    "# 各単語のID及び出現頻度が訓練データに収められた。サンプルを以下に表示\n",
    "print(type(X_train_counts[0]))\n",
    "print(X_train_counts[0])"
   ]
  },
  {
   "cell_type": "code",
   "execution_count": 13,
   "metadata": {},
   "outputs": [
    {
     "data": {
      "text/plain": [
       "(2257, 35788)"
      ]
     },
     "execution_count": 13,
     "metadata": {},
     "output_type": "execute_result"
    }
   ],
   "source": [
    "# 頻度ベクトルからTFベクトルへ変換\n",
    "tf_transformer = TfidfTransformer(use_idf=False).fit(X_train_counts)\n",
    "X_train_tf = tf_transformer.transform(X_train_counts)\n",
    "X_train_tf.shape"
   ]
  },
  {
   "cell_type": "code",
   "execution_count": 14,
   "metadata": {},
   "outputs": [
    {
     "data": {
      "text/plain": [
       "(2257, 35788)"
      ]
     },
     "execution_count": 14,
     "metadata": {},
     "output_type": "execute_result"
    }
   ],
   "source": [
    "# 頻度ベクトルからTF-IDFベクトルへ変換\n",
    "tfidf_transformer = TfidfTransformer()\n",
    "X_train_tfidf = tfidf_transformer.fit_transform(X_train_counts)\n",
    "X_train_tfidf.shape"
   ]
  },
  {
   "cell_type": "code",
   "execution_count": 15,
   "metadata": {},
   "outputs": [
    {
     "name": "stdout",
     "output_type": "stream",
     "text": [
      "<class 'scipy.sparse.csr.csr_matrix'>\n",
      "  (0, 14887)\t0.016797806021219684\n",
      "  (0, 29022)\t0.1348710554299733\n",
      "  (0, 8696)\t0.314400065528974\n",
      "  (0, 4017)\t0.12491817585060791\n",
      "  (0, 33256)\t0.11819702490105698\n",
      "  (0, 21661)\t0.1962279892331408\n",
      "  (0, 9031)\t0.3841803935867984\n",
      "  (0, 31077)\t0.016797806021219684\n",
      "  (0, 9805)\t0.21567205914741705\n",
      "  (0, 17366)\t0.0744441018788533\n",
      "  (0, 32493)\t0.07283773941616518\n",
      "  (0, 16916)\t0.17358472047671197\n",
      "  (0, 19780)\t0.24645540709354397\n",
      "  (0, 17302)\t0.18626015109199115\n",
      "  (0, 23122)\t0.036374916362300114\n",
      "  (0, 25663)\t0.034290706362898604\n",
      "  (0, 16881)\t0.0360441471878483\n",
      "  (0, 16082)\t0.11382738609462074\n",
      "  (0, 23915)\t0.017762318563562172\n",
      "  (0, 32142)\t0.08865416253721688\n",
      "  (0, 33597)\t0.06567578043186388\n",
      "  (0, 20253)\t0.016864892977128034\n",
      "  (0, 587)\t0.05966162012870271\n",
      "  (0, 12051)\t0.037793189755988436\n",
      "  (0, 5201)\t0.04316199700711876\n",
      "  :\t:\n",
      "  (0, 25361)\t0.11947938145690981\n",
      "  (0, 25337)\t0.04935883383975408\n",
      "  (0, 12833)\t0.125601499991304\n",
      "  (0, 5195)\t0.0310951485922154\n",
      "  (0, 27836)\t0.06899050810672397\n",
      "  (0, 18474)\t0.019964881751854364\n",
      "  (0, 32270)\t0.023871142738151236\n",
      "  (0, 9932)\t0.06350565647195339\n",
      "  (0, 15837)\t0.05417404179868691\n",
      "  (0, 32135)\t0.04910237380446671\n",
      "  (0, 17556)\t0.01894546434959984\n",
      "  (0, 4378)\t0.0686611288079694\n",
      "  (0, 26175)\t0.08497460943470851\n",
      "  (0, 9338)\t0.049671845493333165\n",
      "  (0, 33572)\t0.09313007554599557\n",
      "  (0, 31915)\t0.08631915131162177\n",
      "  (0, 177)\t0.25612026239119895\n",
      "  (0, 2326)\t0.24645540709354397\n",
      "  (0, 3062)\t0.10783602957370853\n",
      "  (0, 35416)\t0.1348710554299733\n",
      "  (0, 20459)\t0.10960585507802437\n",
      "  (0, 14085)\t0.06666452137859726\n",
      "  (0, 3166)\t0.1348710554299733\n",
      "  (0, 12541)\t0.1348710554299733\n",
      "  (0, 230)\t0.1348710554299733\n"
     ]
    }
   ],
   "source": [
    "# TF-IDF形式に変換した訓練データのサンプルを表示\n",
    "print(type(X_train_tfidf[0]))\n",
    "print(X_train_tfidf[0])"
   ]
  },
  {
   "cell_type": "markdown",
   "metadata": {},
   "source": [
    "## 分類器による訓練"
   ]
  },
  {
   "cell_type": "code",
   "execution_count": 16,
   "metadata": {},
   "outputs": [],
   "source": [
    "# NaiveBayes分類機のインスタンスを生成\n",
    "from sklearn.naive_bayes import MultinomialNB\n",
    "clf = MultinomialNB().fit(X_train_tfidf, twenty_train.target)"
   ]
  },
  {
   "cell_type": "code",
   "execution_count": 17,
   "metadata": {},
   "outputs": [
    {
     "name": "stdout",
     "output_type": "stream",
     "text": [
      "'God is love' => soc.religion.christian\n",
      "'OpenGL on the GPU is fast' => comp.graphics\n"
     ]
    }
   ],
   "source": [
    "# サンプル文の評価\n",
    "docs_new = ['God is love', 'OpenGL on the GPU is fast']\n",
    "X_new_counts = count_vect.transform(docs_new)  # 頻度計算\n",
    "X_new_tfidf = tfidf_transformer.transform(X_new_counts)  # TF-IDF形式への変換\n",
    "predicted = clf.predict(X_new_tfidf)  # 推論\n",
    "for doc, category in zip(docs_new, predicted):\n",
    "    print('%r => %s' % (doc, twenty_train.target_names[category])) # 推論結果の表示"
   ]
  },
  {
   "cell_type": "markdown",
   "metadata": {},
   "source": [
    "## パイプラインの構築"
   ]
  },
  {
   "cell_type": "code",
   "execution_count": 18,
   "metadata": {},
   "outputs": [],
   "source": [
    "from sklearn.pipeline import Pipeline\n",
    "text_clf = Pipeline([('vect', CountVectorizer()),\n",
    "                 ('tfidf', TfidfTransformer()),\n",
    "                 ('clf', MultinomialNB()),])"
   ]
  },
  {
   "cell_type": "code",
   "execution_count": 19,
   "metadata": {},
   "outputs": [],
   "source": [
    "text_clf = text_clf.fit(twenty_train.data, twenty_train.target)"
   ]
  },
  {
   "cell_type": "markdown",
   "metadata": {},
   "source": [
    "## テスト用コーパスの評価"
   ]
  },
  {
   "cell_type": "code",
   "execution_count": 20,
   "metadata": {},
   "outputs": [
    {
     "data": {
      "text/plain": [
       "0.8348868175765646"
      ]
     },
     "execution_count": 20,
     "metadata": {},
     "output_type": "execute_result"
    }
   ],
   "source": [
    "import numpy as np\n",
    "twenty_test = fetch_20newsgroups(subset='test',categories=categories, shuffle=True, random_state=42)\n",
    "docs_test = twenty_test.data\n",
    "predicted = text_clf.predict(docs_test)\n",
    "np.mean(predicted == twenty_test.target)"
   ]
  },
  {
   "cell_type": "markdown",
   "metadata": {},
   "source": [
    "## 確率的勾配降下法を用いた訓練・評価"
   ]
  },
  {
   "cell_type": "markdown",
   "metadata": {},
   "source": [
    "scikit-learnではアルゴリズムの置き換えが容易だが、  \n",
    "パイプラインを作っておけば、一連のプロセスも比較的容易に置き換え可能"
   ]
  },
  {
   "cell_type": "code",
   "execution_count": 21,
   "metadata": {},
   "outputs": [
    {
     "data": {
      "text/plain": [
       "0.9127829560585885"
      ]
     },
     "execution_count": 21,
     "metadata": {},
     "output_type": "execute_result"
    }
   ],
   "source": [
    "from sklearn.linear_model import SGDClassifier\n",
    "text_clf = Pipeline([('vect', CountVectorizer()),\n",
    "                 ('tfidf', TfidfTransformer()),\n",
    "                 ('clf', SGDClassifier(loss='hinge', penalty='l2', alpha=1e-3, max_iter=5, random_state=42)),])\n",
    "\n",
    "_ = text_clf.fit(twenty_train.data, twenty_train.target)\n",
    "predicted = text_clf.predict(docs_test)\n",
    "np.mean(predicted == twenty_test.target)"
   ]
  },
  {
   "cell_type": "markdown",
   "metadata": {},
   "source": [
    "classification_report()を使用することで、性能評価も容易に行える"
   ]
  },
  {
   "cell_type": "code",
   "execution_count": 22,
   "metadata": {},
   "outputs": [
    {
     "name": "stdout",
     "output_type": "stream",
     "text": [
      "                        precision    recall  f1-score   support\n",
      "\n",
      "           alt.atheism       0.95      0.81      0.87       319\n",
      "         comp.graphics       0.88      0.97      0.92       389\n",
      "               sci.med       0.94      0.90      0.92       396\n",
      "soc.religion.christian       0.90      0.95      0.93       398\n",
      "\n",
      "           avg / total       0.92      0.91      0.91      1502\n",
      "\n"
     ]
    }
   ],
   "source": [
    "from sklearn import metrics\n",
    "report = metrics.classification_report(twenty_test.target, predicted,target_names=twenty_test.target_names)\n",
    "print(report)"
   ]
  },
  {
   "cell_type": "markdown",
   "metadata": {},
   "source": [
    "Jupyternotebook で上記表示は美しくないため、dataframeの表形式で表示してみる"
   ]
  },
  {
   "cell_type": "code",
   "execution_count": 23,
   "metadata": {},
   "outputs": [],
   "source": [
    "# レポートをDataframeへ置き換える関数\n",
    "import pandas as pd\n",
    "\n",
    "def classifaction_report_to_dataframe(report):\n",
    "    report_data = []\n",
    "    labels = ['class','precision','recall','f1_score','support']\n",
    "    lines = report.split('\\n')\n",
    "    for line in lines[2:-3]:\n",
    "        row = {}\n",
    "        row_data = line.split('      ')\n",
    "        idx = 0\n",
    "        for element in row_data:\n",
    "            if len(element)>0:\n",
    "                row[labels[idx]] = element.strip()\n",
    "                idx += 1                \n",
    "        report_data.append(row)\n",
    "    dataframe = pd.DataFrame.from_dict(report_data)\n",
    "\n",
    "    return dataframe"
   ]
  },
  {
   "cell_type": "code",
   "execution_count": 24,
   "metadata": {},
   "outputs": [
    {
     "data": {
      "text/html": [
       "<div>\n",
       "<style scoped>\n",
       "    .dataframe tbody tr th:only-of-type {\n",
       "        vertical-align: middle;\n",
       "    }\n",
       "\n",
       "    .dataframe tbody tr th {\n",
       "        vertical-align: top;\n",
       "    }\n",
       "\n",
       "    .dataframe thead th {\n",
       "        text-align: right;\n",
       "    }\n",
       "</style>\n",
       "<table border=\"1\" class=\"dataframe\">\n",
       "  <thead>\n",
       "    <tr style=\"text-align: right;\">\n",
       "      <th></th>\n",
       "      <th>class</th>\n",
       "      <th>f1_score</th>\n",
       "      <th>precision</th>\n",
       "      <th>recall</th>\n",
       "      <th>support</th>\n",
       "    </tr>\n",
       "  </thead>\n",
       "  <tbody>\n",
       "    <tr>\n",
       "      <th>0</th>\n",
       "      <td>alt.atheism</td>\n",
       "      <td>0.87</td>\n",
       "      <td>0.95</td>\n",
       "      <td>0.81</td>\n",
       "      <td>319</td>\n",
       "    </tr>\n",
       "    <tr>\n",
       "      <th>1</th>\n",
       "      <td>comp.graphics</td>\n",
       "      <td>0.92</td>\n",
       "      <td>0.88</td>\n",
       "      <td>0.97</td>\n",
       "      <td>389</td>\n",
       "    </tr>\n",
       "    <tr>\n",
       "      <th>2</th>\n",
       "      <td>sci.med</td>\n",
       "      <td>0.92</td>\n",
       "      <td>0.94</td>\n",
       "      <td>0.90</td>\n",
       "      <td>396</td>\n",
       "    </tr>\n",
       "    <tr>\n",
       "      <th>3</th>\n",
       "      <td>soc.religion.christian</td>\n",
       "      <td>0.93</td>\n",
       "      <td>0.90</td>\n",
       "      <td>0.95</td>\n",
       "      <td>398</td>\n",
       "    </tr>\n",
       "  </tbody>\n",
       "</table>\n",
       "</div>"
      ],
      "text/plain": [
       "                    class f1_score precision recall support\n",
       "0             alt.atheism     0.87      0.95   0.81     319\n",
       "1           comp.graphics     0.92      0.88   0.97     389\n",
       "2                 sci.med     0.92      0.94   0.90     396\n",
       "3  soc.religion.christian     0.93      0.90   0.95     398"
      ]
     },
     "execution_count": 24,
     "metadata": {},
     "output_type": "execute_result"
    }
   ],
   "source": [
    "classifaction_report_to_dataframe(report)"
   ]
  },
  {
   "cell_type": "code",
   "execution_count": 25,
   "metadata": {},
   "outputs": [
    {
     "data": {
      "text/html": [
       "<div>\n",
       "<style scoped>\n",
       "    .dataframe tbody tr th:only-of-type {\n",
       "        vertical-align: middle;\n",
       "    }\n",
       "\n",
       "    .dataframe tbody tr th {\n",
       "        vertical-align: top;\n",
       "    }\n",
       "\n",
       "    .dataframe thead th {\n",
       "        text-align: right;\n",
       "    }\n",
       "</style>\n",
       "<table border=\"1\" class=\"dataframe\">\n",
       "  <thead>\n",
       "    <tr style=\"text-align: right;\">\n",
       "      <th></th>\n",
       "      <th>alt.atheism</th>\n",
       "      <th>soc.religion.christian</th>\n",
       "      <th>comp.graphics</th>\n",
       "      <th>sci.med</th>\n",
       "    </tr>\n",
       "  </thead>\n",
       "  <tbody>\n",
       "    <tr>\n",
       "      <th>0</th>\n",
       "      <td>258</td>\n",
       "      <td>11</td>\n",
       "      <td>15</td>\n",
       "      <td>35</td>\n",
       "    </tr>\n",
       "    <tr>\n",
       "      <th>1</th>\n",
       "      <td>4</td>\n",
       "      <td>379</td>\n",
       "      <td>3</td>\n",
       "      <td>3</td>\n",
       "    </tr>\n",
       "    <tr>\n",
       "      <th>2</th>\n",
       "      <td>5</td>\n",
       "      <td>33</td>\n",
       "      <td>355</td>\n",
       "      <td>3</td>\n",
       "    </tr>\n",
       "    <tr>\n",
       "      <th>3</th>\n",
       "      <td>5</td>\n",
       "      <td>10</td>\n",
       "      <td>4</td>\n",
       "      <td>379</td>\n",
       "    </tr>\n",
       "  </tbody>\n",
       "</table>\n",
       "</div>"
      ],
      "text/plain": [
       "   alt.atheism  soc.religion.christian  comp.graphics  sci.med\n",
       "0          258                      11             15       35\n",
       "1            4                     379              3        3\n",
       "2            5                      33            355        3\n",
       "3            5                      10              4      379"
      ]
     },
     "execution_count": 25,
     "metadata": {},
     "output_type": "execute_result"
    }
   ],
   "source": [
    "# 混合行列の表示\n",
    "cf_matrix = metrics.confusion_matrix(twenty_test.target, predicted)\n",
    "cf_df = pd.DataFrame(cf_matrix, columns=categories)\n",
    "cf_df"
   ]
  },
  {
   "cell_type": "markdown",
   "metadata": {},
   "source": [
    "## グリッドサーチによるハイパーパラメータチューニング"
   ]
  },
  {
   "cell_type": "markdown",
   "metadata": {},
   "source": [
    "以下の組み合わせで最適なものを総当たり方式で求める\n",
    "- N-gram:monogramとbigramで切り替え\n",
    "- TF-IDF:TFとTF-IDFで切り替え\n",
    "- 分類器のパラメータαを0.01と0.001で切り替え"
   ]
  },
  {
   "cell_type": "code",
   "execution_count": 26,
   "metadata": {},
   "outputs": [],
   "source": [
    "from sklearn.model_selection import GridSearchCV\n",
    "parameters = {'vect__ngram_range': [(1, 1), (1, 2)],\n",
    "          'tfidf__use_idf': (True, False),\n",
    "          'clf__alpha': (1e-2, 1e-3),}"
   ]
  },
  {
   "cell_type": "code",
   "execution_count": 27,
   "metadata": {},
   "outputs": [],
   "source": [
    "#　上で定義していたパイプラインtext_clfを使ってグリッドサーチ\n",
    "gs_clf = GridSearchCV(text_clf, parameters, n_jobs=-1)"
   ]
  },
  {
   "cell_type": "code",
   "execution_count": 28,
   "metadata": {},
   "outputs": [],
   "source": [
    "gs_clf = gs_clf.fit(twenty_train.data[:400], twenty_train.target[:400])"
   ]
  },
  {
   "cell_type": "code",
   "execution_count": 29,
   "metadata": {},
   "outputs": [
    {
     "data": {
      "text/plain": [
       "'comp.graphics'"
      ]
     },
     "execution_count": 29,
     "metadata": {},
     "output_type": "execute_result"
    }
   ],
   "source": [
    "twenty_train.target_names[gs_clf.predict(['Show a dot on display'])[0]]"
   ]
  },
  {
   "cell_type": "code",
   "execution_count": 30,
   "metadata": {},
   "outputs": [
    {
     "data": {
      "text/plain": [
       "0.9"
      ]
     },
     "execution_count": 30,
     "metadata": {},
     "output_type": "execute_result"
    }
   ],
   "source": [
    "gs_clf.best_score_"
   ]
  },
  {
   "cell_type": "code",
   "execution_count": 31,
   "metadata": {},
   "outputs": [
    {
     "name": "stdout",
     "output_type": "stream",
     "text": [
      "clf__alpha: 0.001\n",
      "tfidf__use_idf: True\n",
      "vect__ngram_range: (1, 1)\n"
     ]
    }
   ],
   "source": [
    "for param_name in sorted(parameters.keys()):\n",
    "    print(\"%s: %r\" % (param_name, gs_clf.best_params_[param_name]))"
   ]
  },
  {
   "cell_type": "markdown",
   "metadata": {
    "collapsed": true
   },
   "source": [
    "Reference: http://scikit-learn.org/"
   ]
  }
 ],
 "metadata": {
  "anaconda-cloud": {},
  "kernelspec": {
   "display_name": "Python 3",
   "language": "python",
   "name": "python3"
  },
  "language_info": {
   "codemirror_mode": {
    "name": "ipython",
    "version": 3
   },
   "file_extension": ".py",
   "mimetype": "text/x-python",
   "name": "python",
   "nbconvert_exporter": "python",
   "pygments_lexer": "ipython3",
   "version": "3.6.5"
  },
  "toc": {
   "colors": {
    "hover_highlight": "#DAA520",
    "running_highlight": "#FF0000",
    "selected_highlight": "#FFD700"
   },
   "moveMenuLeft": true,
   "nav_menu": {
    "height": "48px",
    "width": "252px"
   },
   "navigate_menu": true,
   "number_sections": true,
   "sideBar": true,
   "threshold": 4,
   "toc_cell": false,
   "toc_section_display": "block",
   "toc_window_display": false
  }
 },
 "nbformat": 4,
 "nbformat_minor": 1
}
