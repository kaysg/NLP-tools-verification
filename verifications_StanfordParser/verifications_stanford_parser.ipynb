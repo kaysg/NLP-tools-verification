{
 "cells": [
  {
   "cell_type": "markdown",
   "metadata": {},
   "source": [
    "# Verifications: Stanford Parser"
   ]
  },
  {
   "cell_type": "markdown",
   "metadata": {},
   "source": [
    "- Purpose: To run java NLP library(Stanford Parser) from Python environment\n",
    "- Keywords: Dependency Representation, Tree Representation Parsing"
   ]
  },
  {
   "cell_type": "code",
   "execution_count": 1,
   "metadata": {},
   "outputs": [],
   "source": [
    "import os\n",
    "from nltk.parse.stanford import StanfordParser"
   ]
  },
  {
   "cell_type": "code",
   "execution_count": 2,
   "metadata": {},
   "outputs": [],
   "source": [
    "# JAVAHOMEをOS環境に追加\n",
    "java_path = r'/Library/Java/JavaVirtualMachines/jdk1.8.0_121.jdk/Contents/Home/bin/java'\n",
    "os.environ['JAVAHOME'] = java_path"
   ]
  },
  {
   "cell_type": "code",
   "execution_count": 3,
   "metadata": {},
   "outputs": [],
   "source": [
    "# jarファイルのパスを指定して、Stanford Parserのインスタンス生成\n",
    "scp = StanfordParser(path_to_jar='/usr/local/Cellar/stanford-parser/3.6.0/libexec/stanford-parser.jar',\n",
    "                   path_to_models_jar='/usr/local/Cellar/stanford-parser/3.6.0/libexec/stanford-parser-3.6.0-models.jar')"
   ]
  },
  {
   "cell_type": "code",
   "execution_count": 4,
   "metadata": {},
   "outputs": [],
   "source": [
    "# 入力\n",
    "sentence = 'In Singapore for the 8th International Ageing Asia Innovation Forum, she tells The Straits Times how she first fell in love with gymnast.'"
   ]
  },
  {
   "cell_type": "code",
   "execution_count": 5,
   "metadata": {},
   "outputs": [],
   "source": [
    "# 出力（構文解析後)\n",
    "result = list(scp.raw_parse(sentence))"
   ]
  },
  {
   "cell_type": "code",
   "execution_count": 6,
   "metadata": {},
   "outputs": [
    {
     "name": "stdout",
     "output_type": "stream",
     "text": [
      "(ROOT\n",
      "  (S\n",
      "    (PP\n",
      "      (IN In)\n",
      "      (NP\n",
      "        (NP (NNP Singapore))\n",
      "        (PP\n",
      "          (IN for)\n",
      "          (NP\n",
      "            (DT the)\n",
      "            (JJ 8th)\n",
      "            (NNP International)\n",
      "            (NNP Ageing)\n",
      "            (NNP Asia)\n",
      "            (NNP Innovation)\n",
      "            (NNP Forum)))))\n",
      "    (, ,)\n",
      "    (NP (PRP she))\n",
      "    (VP\n",
      "      (VBZ tells)\n",
      "      (NP\n",
      "        (NP (DT The) (NNP Straits) (NNP Times))\n",
      "        (SBAR\n",
      "          (WHADVP (WRB how))\n",
      "          (S\n",
      "            (NP (PRP she))\n",
      "            (ADVP (RB first))\n",
      "            (VP\n",
      "              (VBD fell)\n",
      "              (PP (IN in) (NP (NN love)))\n",
      "              (PP (IN with) (NP (NNP gymnast))))))))\n",
      "    (. .)))\n"
     ]
    }
   ],
   "source": [
    "# 第１文の解析結果表示\n",
    "print(result[0])"
   ]
  },
  {
   "cell_type": "code",
   "execution_count": 7,
   "metadata": {},
   "outputs": [],
   "source": [
    "# ツリー表示\n",
    "result[0].draw()"
   ]
  },
  {
   "cell_type": "markdown",
   "metadata": {},
   "source": [
    "<img src=\"../img/stanford_parser.png\">"
   ]
  },
  {
   "cell_type": "markdown",
   "metadata": {},
   "source": [
    "Reference: https://nlp.stanford.edu/software/lex-parser.shtml"
   ]
  }
 ],
 "metadata": {
  "anaconda-cloud": {},
  "kernelspec": {
   "display_name": "Python 3",
   "language": "python",
   "name": "python3"
  },
  "language_info": {
   "codemirror_mode": {
    "name": "ipython",
    "version": 3
   },
   "file_extension": ".py",
   "mimetype": "text/x-python",
   "name": "python",
   "nbconvert_exporter": "python",
   "pygments_lexer": "ipython3",
   "version": "3.6.5"
  },
  "toc": {
   "colors": {
    "hover_highlight": "#DAA520",
    "running_highlight": "#FF0000",
    "selected_highlight": "#FFD700"
   },
   "moveMenuLeft": true,
   "nav_menu": {
    "height": "30px",
    "width": "252px"
   },
   "navigate_menu": true,
   "number_sections": true,
   "sideBar": true,
   "threshold": 4,
   "toc_cell": true,
   "toc_section_display": "block",
   "toc_window_display": false
  }
 },
 "nbformat": 4,
 "nbformat_minor": 2
}
