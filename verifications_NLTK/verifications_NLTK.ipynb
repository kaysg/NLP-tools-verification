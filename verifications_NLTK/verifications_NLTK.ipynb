{
 "cells": [
  {
   "cell_type": "markdown",
   "metadata": {},
   "source": [
    "# Verifications: NLTK"
   ]
  },
  {
   "cell_type": "markdown",
   "metadata": {},
   "source": [
    "- Purpose: To perform sentimental analysis of movie review corpus using NLTK\n",
    "- Keywords: Sentimental Analysis, Classification, Naive Bayes, Logistic Regresssion"
   ]
  },
  {
   "cell_type": "code",
   "execution_count": 1,
   "metadata": {},
   "outputs": [],
   "source": [
    "from nltk.corpus import movie_reviews\n",
    "from nltk.classify import NaiveBayesClassifier\n",
    "from nltk.classify.util import accuracy\n",
    "import collections\n"
   ]
  },
  {
   "cell_type": "markdown",
   "metadata": {},
   "source": [
    "## 特徴量抽出"
   ]
  },
  {
   "cell_type": "code",
   "execution_count": 2,
   "metadata": {},
   "outputs": [
    {
     "data": {
      "text/plain": [
       "['neg', 'pos']"
      ]
     },
     "execution_count": 2,
     "metadata": {},
     "output_type": "execute_result"
    }
   ],
   "source": [
    "# NLTKからmoview review コーパスを読み込み、クラスカテゴリーを表示\n",
    "movie_reviews.categories()"
   ]
  },
  {
   "cell_type": "code",
   "execution_count": 3,
   "metadata": {},
   "outputs": [
    {
     "data": {
      "text/plain": [
       "['neg/cv000_29416.txt',\n",
       " 'neg/cv001_19502.txt',\n",
       " 'neg/cv002_17424.txt',\n",
       " 'neg/cv003_12683.txt',\n",
       " 'neg/cv004_12641.txt',\n",
       " 'neg/cv005_29357.txt',\n",
       " 'neg/cv006_17022.txt',\n",
       " 'neg/cv007_4992.txt',\n",
       " 'neg/cv008_29326.txt',\n",
       " 'neg/cv009_29417.txt']"
      ]
     },
     "execution_count": 3,
     "metadata": {},
     "output_type": "execute_result"
    }
   ],
   "source": [
    "# 一例として、ネガティブカテゴリーに属するファイル群を一部表示してみる\n",
    "movie_reviews.fileids(categories=['neg'])[0:10]"
   ]
  },
  {
   "cell_type": "markdown",
   "metadata": {},
   "source": [
    "NLTK分類機の訓練データのフォーマットは、[(辞書,ラベル),(辞書,ラベル),..]。例えば<br>\n",
    "train_feats = [<br>\n",
    "...     ({'a': 1, 'b': 1, 'c': 1}, 'y'),<br>\n",
    "...     ({'a': 5, 'b': 5, 'c': 5}, 'x'),<br>\n",
    "...     ({'a': 0.9, 'b': 0.9, 'c': 0.9}, 'y'),<br>\n",
    "...}<br>\n",
    "<br>\n",
    "train_feats = [<br>\n",
    "...               ({\"a\": 5, \"b\": 2, \"c\": 1}, \"ham\"),<br>\n",
    "...               ({\"a\": 0, \"b\": 3, \"c\": 4}, \"spam\"),<br>\n",
    "...               ({\"a\": 5, \"b\": 1, \"c\": 1}, \"ham\"),<br>\n",
    "...               ({\"a\": 1, \"b\": 4, \"c\": 3}, \"spam\")]<br>\n",
    "...}<br>\n",
    "今回の訓練データもデータフォーマットを合わせて作る必要がある。\n",
    "例えば、\n",
    "train_feats = [<br>\n",
    "...               ({\"plot\": True, \"two\": True, \"teen\": True,..}, \"neg\"),<br>\n",
    "...               ({\"happy\": True, \"nice\": True, \"good\": True}, \"pos\")]<br>\n",
    "...}<br>\n",
    "といった具合に。"
   ]
  },
  {
   "cell_type": "code",
   "execution_count": 4,
   "metadata": {},
   "outputs": [],
   "source": [
    "def bag_of_words(words):\n",
    "    \"\"\"\n",
    "    ワード一式を格納するリストから、値をTrueとする辞書型に変換する関数\n",
    "    >>> bag_of_words(['the', 'quick', 'brown', 'fox'])\n",
    "    {'quick': True, 'brown': True, 'the': True, 'fox': True}\n",
    "    \"\"\"\n",
    "    return dict([(word, True) for word in words])"
   ]
  },
  {
   "cell_type": "code",
   "execution_count": 5,
   "metadata": {},
   "outputs": [],
   "source": [
    "def label_feats_from_corpus(corp, feature_detector=bag_of_words):\n",
    "    \"\"\" ラベル と bug of words型コーパスを紐付け\"\"\"\n",
    "    label_feats = collections.defaultdict(list)\n",
    "    for label in corp.categories():\n",
    "        for fileid in corp.fileids(categories=[label]): # ファイルパスを取得するイテレーション\n",
    "            # corp.words(fileids=[fileid]) により、１ファイル中の全単語をリストで取得する\n",
    "            # e.g. ['plot', ':', 'two', 'teen', 'couples', 'go', 'to', ...]\n",
    "            # 上で定義したbag_of_words()を用いてこれを　{'plot': True, ':': True, 'two': True, 'teen': True, '..}という辞書形式へ変換\n",
    "            feats = feature_detector(corp.words(fileids=[fileid])) \n",
    "            # negとposの２種類のリストを作っていたのでラベル毎に特徴量をアペンド\n",
    "            label_feats[label].append(feats)\n",
    "\n",
    "    return label_feats\n"
   ]
  },
  {
   "cell_type": "code",
   "execution_count": 6,
   "metadata": {},
   "outputs": [],
   "source": [
    "lfeats = label_feats_from_corpus(movie_reviews)\n",
    "# lfeats.keys()  => dict_keys(['pos', 'neg'])\n",
    "# len(lfeats.get('neg')) => 1000\n",
    "# len(lfeats.get('pos')) => 1000"
   ]
  },
  {
   "cell_type": "code",
   "execution_count": 7,
   "metadata": {},
   "outputs": [],
   "source": [
    "def split_label_feats(lfeats, split=0.75):\n",
    "    \"\"\" 訓練用データとテスト用データに分割 \"\"\"\n",
    "    train_feats = []\n",
    "    test_feats = []\n",
    "\n",
    "    for label, feats in lfeats.items():\n",
    "        cutoff = int(len(feats) * split)\n",
    "        train_feats.extend([(feat, label) for feat in feats[:cutoff]])\n",
    "        test_feats.extend([(feat, label) for feat in feats[cutoff:]])\n",
    "\n",
    "    return train_feats, test_feats"
   ]
  },
  {
   "cell_type": "code",
   "execution_count": 8,
   "metadata": {},
   "outputs": [],
   "source": [
    "train_feats, test_feats = split_label_feats(lfeats)\n",
    "# len(train_feats) => 1500\n",
    "# len(test_feats) => 500"
   ]
  },
  {
   "cell_type": "code",
   "execution_count": 9,
   "metadata": {},
   "outputs": [
    {
     "data": {
      "text/plain": [
       "dict_items([('plot', True), (':', True), ('two', True), ('teen', True), ('couples', True), ('go', True), ('to', True), ('a', True), ('church', True), ('party', True), (',', True), ('drink', True), ('and', True), ('then', True), ('drive', True), ('.', True), ('they', True), ('get', True), ('into', True), ('an', True), ('accident', True), ('one', True), ('of', True), ('the', True), ('guys', True), ('dies', True), ('but', True), ('his', True), ('girlfriend', True), ('continues', True), ('see', True), ('him', True), ('in', True), ('her', True), ('life', True), ('has', True), ('nightmares', True), ('what', True), (\"'\", True), ('s', True), ('deal', True), ('?', True), ('watch', True), ('movie', True), ('\"', True), ('sorta', True), ('find', True), ('out', True), ('critique', True), ('mind', True), ('-', True), ('fuck', True), ('for', True), ('generation', True), ('that', True), ('touches', True), ('on', True), ('very', True), ('cool', True), ('idea', True), ('presents', True), ('it', True), ('bad', True), ('package', True), ('which', True), ('is', True), ('makes', True), ('this', True), ('review', True), ('even', True), ('harder', True), ('write', True), ('since', True), ('i', True), ('generally', True), ('applaud', True), ('films', True), ('attempt', True), ('break', True), ('mold', True), ('mess', True), ('with', True), ('your', True), ('head', True), ('such', True), ('(', True), ('lost', True), ('highway', True), ('&', True), ('memento', True), (')', True), ('there', True), ('are', True), ('good', True), ('ways', True), ('making', True), ('all', True), ('types', True), ('these', True), ('folks', True), ('just', True), ('didn', True), ('t', True), ('snag', True), ('correctly', True), ('seem', True), ('have', True), ('taken', True), ('pretty', True), ('neat', True), ('concept', True), ('executed', True), ('terribly', True), ('so', True), ('problems', True), ('well', True), ('its', True), ('main', True), ('problem', True), ('simply', True), ('too', True), ('jumbled', True), ('starts', True), ('off', True), ('normal', True), ('downshifts', True), ('fantasy', True), ('world', True), ('you', True), ('as', True), ('audience', True), ('member', True), ('no', True), ('going', True), ('dreams', True), ('characters', True), ('coming', True), ('back', True), ('from', True), ('dead', True), ('others', True), ('who', True), ('look', True), ('like', True), ('strange', True), ('apparitions', True), ('disappearances', True), ('looooot', True), ('chase', True), ('scenes', True), ('tons', True), ('weird', True), ('things', True), ('happen', True), ('most', True), ('not', True), ('explained', True), ('now', True), ('personally', True), ('don', True), ('trying', True), ('unravel', True), ('film', True), ('every', True), ('when', True), ('does', True), ('give', True), ('me', True), ('same', True), ('clue', True), ('over', True), ('again', True), ('kind', True), ('fed', True), ('up', True), ('after', True), ('while', True), ('biggest', True), ('obviously', True), ('got', True), ('big', True), ('secret', True), ('hide', True), ('seems', True), ('want', True), ('completely', True), ('until', True), ('final', True), ('five', True), ('minutes', True), ('do', True), ('make', True), ('entertaining', True), ('thrilling', True), ('or', True), ('engaging', True), ('meantime', True), ('really', True), ('sad', True), ('part', True), ('arrow', True), ('both', True), ('dig', True), ('flicks', True), ('we', True), ('actually', True), ('figured', True), ('by', True), ('half', True), ('way', True), ('point', True), ('strangeness', True), ('did', True), ('start', True), ('little', True), ('bit', True), ('sense', True), ('still', True), ('more', True), ('guess', True), ('bottom', True), ('line', True), ('movies', True), ('should', True), ('always', True), ('sure', True), ('before', True), ('given', True), ('password', True), ('enter', True), ('understanding', True), ('mean', True), ('showing', True), ('melissa', True), ('sagemiller', True), ('running', True), ('away', True), ('visions', True), ('about', True), ('20', True), ('throughout', True), ('plain', True), ('lazy', True), ('!', True), ('okay', True), ('people', True), ('chasing', True), ('know', True), ('need', True), ('how', True), ('giving', True), ('us', True), ('different', True), ('offering', True), ('further', True), ('insight', True), ('down', True), ('apparently', True), ('studio', True), ('took', True), ('director', True), ('chopped', True), ('themselves', True), ('shows', True), ('might', True), ('ve', True), ('been', True), ('decent', True), ('here', True), ('somewhere', True), ('suits', True), ('decided', True), ('turning', True), ('music', True), ('video', True), ('edge', True), ('would', True), ('actors', True), ('although', True), ('wes', True), ('bentley', True), ('seemed', True), ('be', True), ('playing', True), ('exact', True), ('character', True), ('he', True), ('american', True), ('beauty', True), ('only', True), ('new', True), ('neighborhood', True), ('my', True), ('kudos', True), ('holds', True), ('own', True), ('entire', True), ('feeling', True), ('unraveling', True), ('overall', True), ('doesn', True), ('stick', True), ('because', True), ('entertain', True), ('confusing', True), ('rarely', True), ('excites', True), ('feels', True), ('redundant', True), ('runtime', True), ('despite', True), ('ending', True), ('explanation', True), ('craziness', True), ('came', True), ('oh', True), ('horror', True), ('slasher', True), ('flick', True), ('packaged', True), ('someone', True), ('assuming', True), ('genre', True), ('hot', True), ('kids', True), ('also', True), ('wrapped', True), ('production', True), ('years', True), ('ago', True), ('sitting', True), ('shelves', True), ('ever', True), ('whatever', True), ('skip', True), ('where', True), ('joblo', True), ('nightmare', True), ('elm', True), ('street', True), ('3', True), ('7', True), ('/', True), ('10', True), ('blair', True), ('witch', True), ('2', True), ('crow', True), ('9', True), ('salvation', True), ('4', True), ('stir', True), ('echoes', True), ('8', True)])"
      ]
     },
     "execution_count": 9,
     "metadata": {},
     "output_type": "execute_result"
    }
   ],
   "source": [
    "# コレクション型なので、items()を使って辞書の内容を表示してみる\n",
    "train_feats[0][0].items()"
   ]
  },
  {
   "cell_type": "markdown",
   "metadata": {},
   "source": [
    "## ナイーブベイズ型訓練モデルの生成と精度評価"
   ]
  },
  {
   "cell_type": "code",
   "execution_count": 10,
   "metadata": {},
   "outputs": [],
   "source": [
    "nb_classifier = NaiveBayesClassifier.train(train_feats)"
   ]
  },
  {
   "cell_type": "code",
   "execution_count": 11,
   "metadata": {},
   "outputs": [
    {
     "data": {
      "text/plain": [
       "0.728"
      ]
     },
     "execution_count": 11,
     "metadata": {},
     "output_type": "execute_result"
    }
   ],
   "source": [
    "accuracy(nb_classifier, test_feats)"
   ]
  },
  {
   "cell_type": "markdown",
   "metadata": {},
   "source": [
    "## ロジスティック回帰型の訓練モデル生成と精度評価"
   ]
  },
  {
   "cell_type": "code",
   "execution_count": 12,
   "metadata": {},
   "outputs": [],
   "source": [
    "from nltk.classify.scikitlearn import SklearnClassifier\n",
    "from sklearn.linear_model import LogisticRegression\n",
    "sk_classifier = SklearnClassifier(LogisticRegression()).train(train_feats)"
   ]
  },
  {
   "cell_type": "code",
   "execution_count": 13,
   "metadata": {},
   "outputs": [
    {
     "data": {
      "text/plain": [
       "0.892"
      ]
     },
     "execution_count": 13,
     "metadata": {},
     "output_type": "execute_result"
    }
   ],
   "source": [
    "accuracy(sk_classifier, test_feats)"
   ]
  },
  {
   "cell_type": "markdown",
   "metadata": {},
   "source": [
    "## テスト"
   ]
  },
  {
   "cell_type": "code",
   "execution_count": 14,
   "metadata": {},
   "outputs": [
    {
     "data": {
      "text/plain": [
       "'neg'"
      ]
     },
     "execution_count": 14,
     "metadata": {},
     "output_type": "execute_result"
    }
   ],
   "source": [
    "negfeat = bag_of_words(['the', 'plot', 'was', 'ludicrous'])\n",
    "sk_classifier.classify(negfeat)"
   ]
  },
  {
   "cell_type": "code",
   "execution_count": 15,
   "metadata": {},
   "outputs": [
    {
     "data": {
      "text/plain": [
       "'pos'"
      ]
     },
     "execution_count": 15,
     "metadata": {},
     "output_type": "execute_result"
    }
   ],
   "source": [
    "posfeat = bag_of_words(['that', 'was', 'a', 'wonderful','moment'])\n",
    "sk_classifier.classify(posfeat)"
   ]
  }
 ],
 "metadata": {
  "anaconda-cloud": {},
  "kernelspec": {
   "display_name": "Python 3",
   "language": "python",
   "name": "python3"
  },
  "language_info": {
   "codemirror_mode": {
    "name": "ipython",
    "version": 3
   },
   "file_extension": ".py",
   "mimetype": "text/x-python",
   "name": "python",
   "nbconvert_exporter": "python",
   "pygments_lexer": "ipython3",
   "version": "3.6.5"
  }
 },
 "nbformat": 4,
 "nbformat_minor": 2
}
