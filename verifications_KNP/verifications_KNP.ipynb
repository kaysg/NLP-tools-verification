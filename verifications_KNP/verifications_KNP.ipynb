{
 "cells": [
  {
   "cell_type": "markdown",
   "metadata": {},
   "source": [
    "# Verifications: KNP"
   ]
  },
  {
   "cell_type": "markdown",
   "metadata": {},
   "source": [
    "- Purpose: To perform morphological analysis with Juman as well as dependency analysis using KNP\n",
    "- Keywords: Morphological analysis, Dependency Analysis"
   ]
  },
  {
   "cell_type": "markdown",
   "metadata": {},
   "source": [
    "## 1) Jumanによる形態素解析"
   ]
  },
  {
   "cell_type": "code",
   "execution_count": 1,
   "metadata": {},
   "outputs": [],
   "source": [
    "from pyknp import Juman,Jumanpp,KNP"
   ]
  },
  {
   "cell_type": "code",
   "execution_count": 2,
   "metadata": {},
   "outputs": [],
   "source": [
    "# Juman インスタンスの生成\n",
    "juman = Juman()"
   ]
  },
  {
   "cell_type": "code",
   "execution_count": 3,
   "metadata": {},
   "outputs": [],
   "source": [
    "# サンプル文に対する形態素解析\n",
    "str = \"巨大なマーライオンがセントーサ島にいた\"\n",
    "result = juman.analysis(str)"
   ]
  },
  {
   "cell_type": "code",
   "execution_count": 4,
   "metadata": {},
   "outputs": [
    {
     "name": "stdout",
     "output_type": "stream",
     "text": [
      "見出し:巨大な, 読み:きょだいな, 原形:巨大だ, 品詞:形容詞, 品詞細分類:*, 活用型:ナ形容詞, 活用形:ダ列基本連体形, 意味情報:代表表記:巨大だ/きょだいだ, 代表表記:巨大だ/きょだいだ\n",
      "見出し:マーライオン, 読み:マーライオン, 原形:マーライオン, 品詞:名詞, 品詞細分類:普通名詞, 活用型:*, 活用形:*, 意味情報:自動獲得:Wikipedia Wikipedia上位語:像/ぞう, 代表表記:\n",
      "見出し:が, 読み:が, 原形:が, 品詞:助詞, 品詞細分類:格助詞, 活用型:*, 活用形:*, 意味情報:NIL, 代表表記:\n",
      "見出し:セントーサ, 読み:セントーサ, 原形:セントーサ, 品詞:名詞, 品詞細分類:普通名詞, 活用型:*, 活用形:*, 意味情報:自動獲得:Wikipedia Wikipediaリダイレクト:セントーサ島, 代表表記:\n",
      "見出し:島, 読み:しま, 原形:島, 品詞:名詞, 品詞細分類:普通名詞, 活用型:*, 活用形:*, 意味情報:代表表記:島/しま 漢字読み:訓 地名末尾 カテゴリ:場所-自然, 代表表記:島/しま\n",
      "見出し:に, 読み:に, 原形:に, 品詞:助詞, 品詞細分類:格助詞, 活用型:*, 活用形:*, 意味情報:NIL, 代表表記:\n",
      "見出し:いた, 読み:いた, 原形:いる, 品詞:動詞, 品詞細分類:*, 活用型:母音動詞, 活用形:タ形, 意味情報:代表表記:射る/いる, 代表表記:射る/いる\n"
     ]
    }
   ],
   "source": [
    "# 形態素解析の結果表示\n",
    "for mp in result.mrph_list():\n",
    "    print(\"見出し:{}, 読み:{}, 原形:{}, 品詞:{}, 品詞細分類:{}, 活用型:{}, 活用形:{}, 意味情報:{}, 代表表記:{}\".format(\n",
    "    mp.midasi, mp.yomi, mp.genkei, mp.hinsi, mp.bunrui, mp.katuyou1, mp.katuyou2, mp.imis, mp.repname))"
   ]
  },
  {
   "cell_type": "code",
   "execution_count": 5,
   "metadata": {},
   "outputs": [
    {
     "data": {
      "text/html": [
       "<div>\n",
       "<style scoped>\n",
       "    .dataframe tbody tr th:only-of-type {\n",
       "        vertical-align: middle;\n",
       "    }\n",
       "\n",
       "    .dataframe tbody tr th {\n",
       "        vertical-align: top;\n",
       "    }\n",
       "\n",
       "    .dataframe thead th {\n",
       "        text-align: right;\n",
       "    }\n",
       "</style>\n",
       "<table border=\"1\" class=\"dataframe\">\n",
       "  <thead>\n",
       "    <tr style=\"text-align: right;\">\n",
       "      <th></th>\n",
       "      <th>見出し</th>\n",
       "      <th>読み</th>\n",
       "      <th>原形</th>\n",
       "      <th>品詞</th>\n",
       "      <th>品詞細分類</th>\n",
       "      <th>活用型</th>\n",
       "      <th>活用形</th>\n",
       "      <th>意味情報</th>\n",
       "      <th>代表表記</th>\n",
       "    </tr>\n",
       "  </thead>\n",
       "  <tbody>\n",
       "    <tr>\n",
       "      <th>0</th>\n",
       "      <td>巨大な</td>\n",
       "      <td>きょだいな</td>\n",
       "      <td>巨大だ</td>\n",
       "      <td>形容詞</td>\n",
       "      <td>*</td>\n",
       "      <td>ナ形容詞</td>\n",
       "      <td>ダ列基本連体形</td>\n",
       "      <td>代表表記:巨大だ/きょだいだ</td>\n",
       "      <td>巨大だ/きょだいだ</td>\n",
       "    </tr>\n",
       "    <tr>\n",
       "      <th>1</th>\n",
       "      <td>マーライオン</td>\n",
       "      <td>マーライオン</td>\n",
       "      <td>マーライオン</td>\n",
       "      <td>名詞</td>\n",
       "      <td>普通名詞</td>\n",
       "      <td>*</td>\n",
       "      <td>*</td>\n",
       "      <td>自動獲得:Wikipedia Wikipedia上位語:像/ぞう</td>\n",
       "      <td></td>\n",
       "    </tr>\n",
       "    <tr>\n",
       "      <th>2</th>\n",
       "      <td>が</td>\n",
       "      <td>が</td>\n",
       "      <td>が</td>\n",
       "      <td>助詞</td>\n",
       "      <td>格助詞</td>\n",
       "      <td>*</td>\n",
       "      <td>*</td>\n",
       "      <td>NIL</td>\n",
       "      <td></td>\n",
       "    </tr>\n",
       "    <tr>\n",
       "      <th>3</th>\n",
       "      <td>セントーサ</td>\n",
       "      <td>セントーサ</td>\n",
       "      <td>セントーサ</td>\n",
       "      <td>名詞</td>\n",
       "      <td>普通名詞</td>\n",
       "      <td>*</td>\n",
       "      <td>*</td>\n",
       "      <td>自動獲得:Wikipedia Wikipediaリダイレクト:セントーサ島</td>\n",
       "      <td></td>\n",
       "    </tr>\n",
       "    <tr>\n",
       "      <th>4</th>\n",
       "      <td>島</td>\n",
       "      <td>しま</td>\n",
       "      <td>島</td>\n",
       "      <td>名詞</td>\n",
       "      <td>普通名詞</td>\n",
       "      <td>*</td>\n",
       "      <td>*</td>\n",
       "      <td>代表表記:島/しま 漢字読み:訓 地名末尾 カテゴリ:場所-自然</td>\n",
       "      <td>島/しま</td>\n",
       "    </tr>\n",
       "    <tr>\n",
       "      <th>5</th>\n",
       "      <td>に</td>\n",
       "      <td>に</td>\n",
       "      <td>に</td>\n",
       "      <td>助詞</td>\n",
       "      <td>格助詞</td>\n",
       "      <td>*</td>\n",
       "      <td>*</td>\n",
       "      <td>NIL</td>\n",
       "      <td></td>\n",
       "    </tr>\n",
       "    <tr>\n",
       "      <th>6</th>\n",
       "      <td>いた</td>\n",
       "      <td>いた</td>\n",
       "      <td>いる</td>\n",
       "      <td>動詞</td>\n",
       "      <td>*</td>\n",
       "      <td>母音動詞</td>\n",
       "      <td>タ形</td>\n",
       "      <td>代表表記:射る/いる</td>\n",
       "      <td>射る/いる</td>\n",
       "    </tr>\n",
       "  </tbody>\n",
       "</table>\n",
       "</div>"
      ],
      "text/plain": [
       "      見出し      読み      原形   品詞 品詞細分類   活用型      活用形  \\\n",
       "0     巨大な   きょだいな     巨大だ  形容詞     *  ナ形容詞  ダ列基本連体形   \n",
       "1  マーライオン  マーライオン  マーライオン   名詞  普通名詞     *        *   \n",
       "2       が       が       が   助詞   格助詞     *        *   \n",
       "3   セントーサ   セントーサ   セントーサ   名詞  普通名詞     *        *   \n",
       "4       島      しま       島   名詞  普通名詞     *        *   \n",
       "5       に       に       に   助詞   格助詞     *        *   \n",
       "6      いた      いた      いる   動詞     *  母音動詞       タ形   \n",
       "\n",
       "                                    意味情報       代表表記  \n",
       "0                         代表表記:巨大だ/きょだいだ  巨大だ/きょだいだ  \n",
       "1       自動獲得:Wikipedia Wikipedia上位語:像/ぞう             \n",
       "2                                    NIL             \n",
       "3  自動獲得:Wikipedia Wikipediaリダイレクト:セントーサ島             \n",
       "4       代表表記:島/しま 漢字読み:訓 地名末尾 カテゴリ:場所-自然       島/しま  \n",
       "5                                    NIL             \n",
       "6                             代表表記:射る/いる      射る/いる  "
      ]
     },
     "execution_count": 5,
     "metadata": {},
     "output_type": "execute_result"
    }
   ],
   "source": [
    "# pandasを用いて、結果を表形式で再表示\n",
    "import pandas as pd\n",
    "\n",
    "mps = [(mp.midasi, mp.yomi, mp.genkei, mp.hinsi, mp.bunrui, mp.katuyou1, mp.katuyou2, mp.imis, mp.repname) for mp in result.mrph_list()]\n",
    "clmns = ('見出し','読み', '原形', '品詞', '品詞細分類', '活用型', '活用形', '意味情報', '代表表記') \n",
    "pd.DataFrame(mps,columns=clmns)"
   ]
  },
  {
   "cell_type": "markdown",
   "metadata": {},
   "source": [
    "## KNPを用いた係り受け関係解析"
   ]
  },
  {
   "cell_type": "code",
   "execution_count": 6,
   "metadata": {},
   "outputs": [],
   "source": [
    "# KNP　インスタンスの生成\n",
    "knp = KNP(option = '-tab -anaphora')"
   ]
  },
  {
   "cell_type": "code",
   "execution_count": 7,
   "metadata": {},
   "outputs": [],
   "source": [
    "# 係り受け構造関係（パーシング）と結果をリスト形式で取得\n",
    "result = knp.parse(str)\n",
    "ph_objs = result.bnst_list()"
   ]
  },
  {
   "cell_type": "code",
   "execution_count": 8,
   "metadata": {},
   "outputs": [],
   "source": [
    "# 結果を句群のリスト、それをつなげた文、親文IDの３つを含む辞書データに変換\n",
    "ph_dic = {}\n",
    "for ph_obj in ph_objs:\n",
    "    phrase_list = []\n",
    "    for mrph in ph_obj._mrph_list._mrph:\n",
    "        phrase_list.append(mrph.midasi)\n",
    "    ph_dic[ph_obj.bnst_id] = {\"phrase_list\":phrase_list, \"phrase\":''.join(phrase_list), \"parent_id\": ph_obj.parent_id}"
   ]
  },
  {
   "cell_type": "code",
   "execution_count": 9,
   "metadata": {},
   "outputs": [
    {
     "name": "stdout",
     "output_type": "stream",
     "text": [
      "巨大な => マーライオンが\n",
      "マーライオンが => いた\n",
      "セントーサ島に => いた\n"
     ]
    }
   ],
   "source": [
    "# 結果（係り受け関係）を表示\n",
    "for p in ph_dic.items():\n",
    "    if p[1]['parent_id'] > 0:\n",
    "        print(p[1]['phrase'], '=>', ph_dic[p[1]['parent_id']]['phrase'])"
   ]
  },
  {
   "cell_type": "code",
   "execution_count": 10,
   "metadata": {},
   "outputs": [
    {
     "name": "stdout",
     "output_type": "stream",
     "text": [
      "['巨大な'] => ['マーライオン', 'が']\n",
      "['マーライオン', 'が'] => ['いた']\n",
      "['セントーサ', '島', 'に'] => ['いた']\n"
     ]
    }
   ],
   "source": [
    "# 結果（係り受け関係）をリスト形式で表示\n",
    "for p in ph_dic.items():\n",
    "    if p[1]['parent_id'] > 0:\n",
    "        print(p[1]['phrase_list'], '=>', ph_dic[p[1]['parent_id']]['phrase_list'])"
   ]
  },
  {
   "cell_type": "markdown",
   "metadata": {},
   "source": [
    "# Reference\n",
    "http://nlp.ist.i.kyoto-u.ac.jp/index.php?plugin=attach&refer=KNP&openfile=knp_feature.pdf\n",
    "\n",
    "http://fvcrc.i.nagoya-u.ac.jp/~sasano/knp/\n",
    "\n"
   ]
  }
 ],
 "metadata": {
  "anaconda-cloud": {},
  "kernelspec": {
   "display_name": "Python 3",
   "language": "python",
   "name": "python3"
  },
  "language_info": {
   "codemirror_mode": {
    "name": "ipython",
    "version": 3
   },
   "file_extension": ".py",
   "mimetype": "text/x-python",
   "name": "python",
   "nbconvert_exporter": "python",
   "pygments_lexer": "ipython3",
   "version": "3.6.5"
  },
  "toc": {
   "colors": {
    "hover_highlight": "#DAA520",
    "running_highlight": "#FF0000",
    "selected_highlight": "#FFD700"
   },
   "moveMenuLeft": true,
   "nav_menu": {
    "height": "138px",
    "width": "252px"
   },
   "navigate_menu": true,
   "number_sections": true,
   "sideBar": true,
   "threshold": 4,
   "toc_cell": true,
   "toc_section_display": "block",
   "toc_window_display": false
  }
 },
 "nbformat": 4,
 "nbformat_minor": 1
}
